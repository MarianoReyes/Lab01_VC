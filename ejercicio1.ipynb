{
 "cells": [
  {
   "cell_type": "markdown",
   "metadata": {},
   "source": [
    "## Ejercicio # 1 \n",
    "Leer la sección 9.4 sobre el operador Hit or Miss. Explicar con sus propias palabras cómo funciona este operador, y cómo se\n",
    "construye la operación A ∗ B a partir de las operaciones básicas de dilatación, erosión, opening, closing y diferencia.\n",
    "Mostrar un ejemplo con una imagen binaria de su elección en donde se muestre que el operador Hit or Miss detecta la\n",
    "localización de un (o varios) objetos especí\n",
    "ficos dentro de una imagen binaria I."
   ]
  },
  {
   "cell_type": "markdown",
   "metadata": {},
   "source": [
    "R// El operador Hit or Miss es una operación morfológica utilizada en el procesamiento de imágenes para la detección de patrones específicos en una imagen binaria. Su objetivo principal es identificar la presencia de ciertos patrones exactos dentro de una imagen. Esto se logra mediante la combinación de dos operadores morfológicos fundamentales: dilatación y erosión.\n",
    "\n"
   ]
  }
 ],
 "metadata": {
  "language_info": {
   "name": "python"
  }
 },
 "nbformat": 4,
 "nbformat_minor": 2
}
