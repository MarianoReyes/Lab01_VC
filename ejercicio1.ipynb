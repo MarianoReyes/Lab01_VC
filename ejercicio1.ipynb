{
 "cells": [
  {
   "cell_type": "markdown",
   "metadata": {},
   "source": [
    "## Ejercicio # 1 \n",
    "Leer la sección 9.4 sobre el operador Hit or Miss. Explicar con sus propias palabras cómo funciona este operador, y cómo se\n",
    "construye la operación A ∗ B a partir de las operaciones básicas de dilatación, erosión, opening, closing y diferencia.\n",
    "Mostrar un ejemplo con una imagen binaria de su elección en donde se muestre que el operador Hit or Miss detecta la\n",
    "localización de un (o varios) objetos especí\n",
    "ficos dentro de una imagen binaria I."
   ]
  },
  {
   "cell_type": "markdown",
   "metadata": {},
   "source": [
    "R// \n",
    "El operador Hit or Miss es una herramienta fundamental en el procesamiento de imágenes, especialmente en el ámbito de la morfología matemática, que se utiliza para la detección de patrones específicos dentro de una imagen binaria. Funciona basándose en dos elementos estructurantes: uno que debe encajar con el objeto de interés (hit) y otro que debe encajar con el fondo (miss).\n",
    "\n",
    "La operación A∗B, donde A es la imagen binaria y B es un elemento estructurante compuesto por una parte de hit y una parte de miss, se construye utilizando las operaciones básicas de morfología matemática de la siguiente manera:\n",
    "\n",
    "Erosión: Se erosiona la imagen A con la parte de hit del elemento estructurante B. Esto se hace para encontrar las regiones de la imagen donde el elemento estructurante encaja completamente.\n",
    "\n",
    "Complemento y Erosión: Se toma el complemento de la imagen A (es decir, se invierten los píxeles blancos y negros) y se erosiona con la parte de miss del elemento estructurante B. Esto se hace para encontrar las regiones del fondo que encajan con la parte de miss.\n",
    "\n",
    "Intersección: Finalmente, se realiza la intersección (AND lógico) de los resultados de las dos erosiones anteriores. Esto da como resultado las posiciones exactas donde el patrón definido por el elemento estructurante B (tanto la parte de hit como la parte de miss) se encuentra en la imagen A. Esencialmente, esta operación permite detectar formas específicas en una imagen, teniendo en cuenta no solo donde debe aparecer el objeto de interés (hit) sino también donde debe estar el fondo (miss)."
   ]
  },
  {
   "cell_type": "code",
   "execution_count": 2,
   "metadata": {},
   "outputs": [
    {
     "data": {
      "image/png": "[encoded data removed]",
      "text/plain": [
       "<Figure size 2000x500 with 4 Axes>"
      ]
     },
     "metadata": {},
     "output_type": "display_data"
    }
   ],
   "source": [
    "import numpy as np\n",
    "import matplotlib.pyplot as plt\n",
    "from skimage.morphology import erosion, square\n",
    "\n",
    "# Re-crear la imagen binaria y elementos estructurantes necesarios\n",
    "image = np.zeros((10, 10), dtype=np.uint8)\n",
    "image[2:4, 2:4] = 1  # Añadir un cuadrado pequeño\n",
    "image[5:8, 5:8] = 1  # Añadir un cuadrado más grande\n",
    "image[1:4, 6:9] = 1  # Añadir otro objeto para complejidad\n",
    "\n",
    "# Elemento estructurante para el hit\n",
    "selem_hit = np.array([[1, 1], [1, 1]])  # Parte de hit: cuadrado de 2x2\n",
    "\n",
    "# Realizar las operaciones de erosión manualmente\n",
    "erosion_hit = erosion(image, selem_hit)\n",
    "complement_image = 1 - image  # Complemento de la imagen\n",
    "erosion_miss = erosion(complement_image, square(3))  # Erosión con el complemento y un elemento estructurante apropiado\n",
    "\n",
    "# Simulación manual de Hit or Miss\n",
    "hit_or_miss_manual = erosion_hit & (1 - erosion_miss)\n",
    "\n",
    "# Mostrar la imagen original y el resultado de la simulación manual de Hit or Miss\n",
    "fig, axes = plt.subplots(1, 4, figsize=(20, 5))\n",
    "axes[0].imshow(image, cmap='gray')\n",
    "axes[0].set_title('Imagen Original')\n",
    "axes[0].axis('off')\n",
    "\n",
    "axes[1].imshow(erosion_hit, cmap='gray')\n",
    "axes[1].set_title('Erosión con Hit')\n",
    "axes[1].axis('off')\n",
    "\n",
    "axes[2].imshow(1 - erosion_miss, cmap='gray')\n",
    "axes[2].set_title('Erosión con Miss (Complemento)')\n",
    "axes[2].axis('off')\n",
    "\n",
    "axes[3].imshow(hit_or_miss_manual, cmap='gray')\n",
    "axes[3].set_title('Simulación de Hit or Miss')\n",
    "axes[3].axis('off')\n",
    "\n",
    "plt.show()\n",
    "\n",
    "\n"
   ]
  }
 ],
 "metadata": {
  "kernelspec": {
   "display_name": "Python 3",
   "language": "python",
   "name": "python3"
  },
  "language_info": {
   "codemirror_mode": {
    "name": "ipython",
    "version": 3
   },
   "file_extension": ".py",
   "mimetype": "text/x-python",
   "name": "python",
   "nbconvert_exporter": "python",
   "pygments_lexer": "ipython3",
   "version": "3.12.0"
  }
 },
 "nbformat": 4,
 "nbformat_minor": 2
}
