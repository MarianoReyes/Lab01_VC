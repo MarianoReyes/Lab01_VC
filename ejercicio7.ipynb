{
 "cells": [
  {
   "cell_type": "markdown",
   "metadata": {},
   "source": [
    "## Ejercicio 7\n",
    "\n",
    "Sobre la imagen microscope.png, aplicar los siguientes pasos:\n",
    "1. Binarizar la imagen (si no esta binarizada).\n",
    "2. Obtener la componente conexa de menor tamano. ¿Cuantos pıxeles tiene?\n",
    "3. Recortar la componente conexa de mayor tamano, y remover el resto de componentes. Mostrar una imagen binaria\n",
    "donde solo quede la mayor componente conexa.\n",
    "4. Aplicar operaciones morfologicas para contar cuantas celulas hay en total. ¿Comparar el numero obtenido contra el\n",
    "numero verdadero de celulas?\n"
   ]
  },
  {
   "cell_type": "markdown",
   "metadata": {},
   "source": [
    "### 1."
   ]
  },
  {
   "cell_type": "code",
   "execution_count": 3,
   "metadata": {},
   "outputs": [
    {
     "data": {
      "text/plain": [
       "True"
      ]
     },
     "execution_count": 3,
     "metadata": {},
     "output_type": "execute_result"
    }
   ],
   "source": [
    "import cv2\n",
    "import numpy as np\n",
    "\n",
    "# Cargar la imagen\n",
    "image = cv2.imread('./imgs/microscope.png', 0)\n",
    "\n",
    "# Aplicar binarización\n",
    "_, binary_image = cv2.threshold(image, 128, 255, cv2.THRESH_BINARY)\n",
    "\n",
    "# Guardar la imagen binarizada\n",
    "cv2.imwrite('imgs/binary_microscope.png', binary_image)\n"
   ]
  },
  {
   "cell_type": "markdown",
   "metadata": {},
   "source": [
    "### 2."
   ]
  },
  {
   "cell_type": "code",
   "execution_count": 4,
   "metadata": {},
   "outputs": [
    {
     "name": "stdout",
     "output_type": "stream",
     "text": [
      "El componente de menor tamaño tiene 158 píxeles.\n"
     ]
    }
   ],
   "source": [
    "# Leer la imagen binarizada\n",
    "binary_image = cv2.imread('imgs/binary_microscope.png', 0)\n",
    "\n",
    "# Encontrar componentes conectadas\n",
    "num_labels, labels, stats, _ = cv2.connectedComponentsWithStats(binary_image)\n",
    "\n",
    "# Encontrar la componente de menor tamaño (excluyendo el fondo)\n",
    "smallest_component_index = np.argmin(stats[1:, cv2.CC_STAT_AREA]) + 1  # +1 para evitar el fondo\n",
    "\n",
    "# Obtener el número de píxeles de la componente de menor tamaño\n",
    "smallest_component_size = stats[smallest_component_index, cv2.CC_STAT_AREA]\n",
    "print(f\"El componente de menor tamaño tiene {smallest_component_size} píxeles.\")\n"
   ]
  },
  {
   "cell_type": "markdown",
   "metadata": {},
   "source": [
    "### 3."
   ]
  },
  {
   "cell_type": "code",
   "execution_count": 26,
   "metadata": {},
   "outputs": [
    {
     "data": {
      "text/plain": [
       "True"
      ]
     },
     "execution_count": 26,
     "metadata": {},
     "output_type": "execute_result"
    }
   ],
   "source": [
    "# Encontrar la componente de mayor tamaño\n",
    "largest_component_index = np.argmax(stats[1:, cv2.CC_STAT_AREA]) + 1  # +1 para evitar el fondo\n",
    "\n",
    "# Crear una imagen donde solo quede la componente de mayor tamaño\n",
    "largest_component_image = np.zeros_like(binary_image)\n",
    "largest_component_image[labels == largest_component_index] = 255\n",
    "\n",
    "# Guardar la imagen de la componente de mayor tamaño\n",
    "cv2.imwrite('imgs/microscopio_comp_grande.png', largest_component_image)\n"
   ]
  },
  {
   "cell_type": "markdown",
   "metadata": {},
   "source": [
    "### 4."
   ]
  },
  {
   "cell_type": "code",
   "execution_count": 38,
   "metadata": {},
   "outputs": [
    {
     "name": "stdout",
     "output_type": "stream",
     "text": [
      "Se encontraron 12 células.\n"
     ]
    },
    {
     "data": {
      "text/plain": [
       "True"
      ]
     },
     "execution_count": 38,
     "metadata": {},
     "output_type": "execute_result"
    }
   ],
   "source": [
    "# Cargar la imagen de la componente de mayor tamaño\n",
    "image_path = 'imgs/microscopio_comp_grande.png'\n",
    "image = cv2.imread(image_path, 0)\n",
    "\n",
    "# Aplicar operaciones morfológicas para separar células si están muy juntas\n",
    "# Definir el elemento estructurante para la erosión/dilatación\n",
    "kernel = np.ones((13,13), np.uint8)  # Puedes ajustar el tamaño según sea necesario\n",
    "\n",
    "kernel2 = np.ones((9,9), np.uint8)  # Puedes ajustar el tamaño según sea necesario\n",
    "\n",
    "# Erosión para eliminar ruido\n",
    "eroded_image = cv2.erode(image, kernel, iterations=1)\n",
    "\n",
    "# Dilatación para recuperar la forma de las células\n",
    "dilated_image = cv2.dilate(eroded_image, kernel2, iterations=1)\n",
    "\n",
    "# Encontrar contornos de las células\n",
    "contours, _ = cv2.findContours(dilated_image, cv2.RETR_EXTERNAL, cv2.CHAIN_APPROX_SIMPLE)\n",
    "\n",
    "# Contar las células encontradas\n",
    "num_cells = len(contours)\n",
    "print(f\"Se encontraron {num_cells} células.\")\n",
    "\n",
    "# Opcional: Dibujar contornos en la imagen para visualización\n",
    "contoured_image = cv2.cvtColor(image, cv2.COLOR_GRAY2BGR)  # Convertir a BGR para dibujar contornos en color\n",
    "cv2.drawContours(contoured_image, contours, -1, (0, 255, 0), 2)\n",
    "\n",
    "# Guardar la imagen con los contornos dibujados\n",
    "cv2.imwrite('imgs/celulas_contadas.png', contoured_image)\n"
   ]
  },
  {
   "cell_type": "markdown",
   "metadata": {},
   "source": [
    "Cuenta un total de 12 comparadas con 15 posibles, esto se puede llegar a arreglar jugando aun mas con el tamaño del elemento estructurante ya sea tanto para la erosión y para la dilatación. Esos son resultados obtenidos luego de haber iterado varias veces sobre los posibles valores del elemento estructurante."
   ]
  }
 ],
 "metadata": {
  "kernelspec": {
   "display_name": "Python 3",
   "language": "python",
   "name": "python3"
  },
  "language_info": {
   "codemirror_mode": {
    "name": "ipython",
    "version": 3
   },
   "file_extension": ".py",
   "mimetype": "text/x-python",
   "name": "python",
   "nbconvert_exporter": "python",
   "pygments_lexer": "ipython3",
   "version": "3.12.0"
  }
 },
 "nbformat": 4,
 "nbformat_minor": 2
}
